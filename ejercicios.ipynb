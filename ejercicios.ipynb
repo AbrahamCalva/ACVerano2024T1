{
 "cells": [
  {
   "cell_type": "code",
   "execution_count": 1,
   "id": "1747f523-95f6-44f6-87c7-bb91d9d116ca",
   "metadata": {},
   "outputs": [],
   "source": [
    "#importaciones \n",
    "\n",
    "import CodeBase.Valeria as v\n",
    "import CodeBase.Carlos as c\n",
    "import CodeBase.Asael as am\n",
    "import CodeBase.Sebastian as s\n",
    "import CodeBase.Lizbeth as l\n",
    "import CodeBase.formatear_tabla as tabla\n",
    "\n",
    "import CodeBase.plot_poligono as p\n",
    "import CodeBase.indices as i\n",
    "import CodeBase.plot_hist as ht\n",
    "import CodeBase.plot_barras as br\n",
    "import CodeBase.plot_ojiva as o\n",
    "import CodeBase.plot_pie as pie\n",
    "import CodeBase.Manuel as m\n",
    "import CodeBase.Granados as g\n",
    "import CodeBase.Abraham as h\n",
    "import CodeBase.Calva as ca\n",
    "import CodeBase.Hernandez as z\n",
    "import CodeBase.tabla_letras as t"
   ]
  },
  {
   "cell_type": "markdown",
   "id": "5d8848a6-bdf5-40f4-b947-41d1ad887098",
   "metadata": {},
   "source": [
    "## Ejercicio 8\n",
    "### Tecnología.Sepreguntóa30jóvenescuántashorasdedicabancadadíaanavegareninternet(el tiempo que dedican a sesiones de chat y a las redes sociales quedan incluidos). Los resultados son los siguientes:\n",
    "\n",
    "### a. ¿Qué tipo de datos se maneja en este problema?\n",
    "\n",
    "El tipo de datos usado para este problema son cuantitativos"
   ]
  },
  {
   "cell_type": "code",
   "execution_count": null,
   "id": "43053a46-05c2-4c79-bc30-606230194e30",
   "metadata": {},
   "outputs": [],
   "source": []
  }
 ],
 "metadata": {
  "kernelspec": {
   "display_name": "Python 3 (ipykernel)",
   "language": "python",
   "name": "python3"
  },
  "language_info": {
   "codemirror_mode": {
    "name": "ipython",
    "version": 3
   },
   "file_extension": ".py",
   "mimetype": "text/x-python",
   "name": "python",
   "nbconvert_exporter": "python",
   "pygments_lexer": "ipython3",
   "version": "3.12.2"
  }
 },
 "nbformat": 4,
 "nbformat_minor": 5
}
