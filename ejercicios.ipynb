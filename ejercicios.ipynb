{
 "cells": [
  {
   "cell_type": "code",
   "execution_count": 1,
   "id": "1747f523-95f6-44f6-87c7-bb91d9d116ca",
   "metadata": {},
   "outputs": [],
   "source": [
    "#importaciones \n",
    "\n",
    "import CodeBase.Valeria as v\n",
    "import CodeBase.Carlos as c\n",
    "import CodeBase.Asael as am\n",
    "import CodeBase.Sebastian as s\n",
    "import CodeBase.Lizbeth as l\n",
    "import CodeBase.formatear_tabla as tabla\n",
    "\n",
    "import CodeBase.plot_poligono as p\n",
    "import CodeBase.indices as i\n",
    "import CodeBase.plot_hist as ht\n",
    "import CodeBase.plot_barras as br\n",
    "import CodeBase.plot_ojiva as o\n",
    "import CodeBase.plot_pie as pie\n",
    "import CodeBase.Manuel as m\n",
    "import CodeBase.Granados as g\n",
    "import CodeBase.Abraham as h\n",
    "import CodeBase.Calva as ca\n",
    "import CodeBase.Hernandez as z\n",
    "import CodeBase.tabla_letras as t"
   ]
  },
  {
   "cell_type": "markdown",
   "id": "5d8848a6-bdf5-40f4-b947-41d1ad887098",
   "metadata": {},
   "source": [
    "## Ejercicio 8\n",
    "### Tecnología.Sepreguntóa30jóvenescuántashorasdedicabancadadíaanavegareninternet(el tiempo que dedican a sesiones de chat y a las redes sociales quedan incluidos). Los resultados son los siguientes:\n",
    "\n",
    "### a. ¿Qué tipo de datos se maneja en este problema?\n",
    "\n",
    "El tipo de datos usado para este problema son cuantitativos\n",
    "\n",
    "### b. Construye la distribución de frecuencias correspondiente."
   ]
  },
  {
   "cell_type": "code",
   "execution_count": 2,
   "id": "43053a46-05c2-4c79-bc30-606230194e30",
   "metadata": {},
   "outputs": [
    {
     "name": "stdout",
     "output_type": "stream",
     "text": [
      "Lista ordenadas  [0.9, 1.1, 1.7, 1.9, 2.2, 2.3, 2.5, 2.5, 2.6, 2.7, 2.8, 2.9, 3.1, 3.1, 3.2, 3.3, 3.6, 3.7, 3.8, 4.0, 4.2, 4.4, 4.5, 4.9, 4.9, 5.3, 5.7, 5.8, 5.9, 7.2]\n",
      "Limites inferiores:  [0.9, 2.16, 3.42, 4.680000000000001, 5.94]\n",
      "Limites superiores:  [2.16, 3.42, 4.68, 5.94, 7.2]\n",
      "Marcas de clase:  [1.53, 2.79, 4.05, 5.3100000000000005, 6.57]\n",
      "Frecuencias absolutas agrupadas: [4, 12, 7, 6, 1]\n",
      "Frecuencia relativa: [13.333333333333334, 40.0, 23.333333333333332, 20.0, 3.3333333333333335]\n",
      "Frecuencia relativa acumulada: [13.333333333333334, 53.333333333333336, 76.66666666666667, 96.66666666666667, 100.0]\n",
      "\n",
      "| N°| LimInf | LimSup| MarcaC| fa | fr | Facum |\n",
      "|---|--------|--------|-------|----|----|-----|\n",
      "| 1 | 0.9000 | 2.1600 | 1.5300 | 4 | 13.33% | 13.33% |\n",
      "| 2 | 2.1600 | 3.4200 | 2.7900 | 12 | 40.00% | 53.33% |\n",
      "| 3 | 3.4200 | 4.6800 | 4.0500 | 7 | 23.33% | 76.67% |\n",
      "| 4 | 4.6800 | 5.9400 | 5.3100 | 6 | 20.00% | 96.67% |\n",
      "| 5 | 5.9400 | 7.2000 | 6.5700 | 1 | 3.33% | 100.00% |\n",
      "|---|--------|--------|-------|----|----|-----|\n",
      "\n"
     ]
    }
   ],
   "source": [
    "lista=[2.5, 4.5, 5.8, 2.2, 5.7, \n",
    "       5.3, 4.0, 0.9, 2.5, 2.3, \n",
    "       3.2, 4.9, 2.7, 3.7, 3.8, \n",
    "       4.9, 2.8, 3.6, 4.2, 3.1, \n",
    "       7.2, 1.9, 5.9, 3.3, 2.9, \n",
    "       1.1, 1.7, 2.6, 3.1, 4.4]\n",
    "ordenadas=c.ordenar_asc(lista) \n",
    "print(\"Lista ordenadas \",ordenadas)\n",
    "clases_sorted = c.ordenar_asc(lista)\n",
    "lim_inf, lim_sup, mrks = m.calcular_estadisticas_intervalos(ordenadas)\n",
    "print (\"Limites inferiores: \",lim_inf)\n",
    "print(\"Limites superiores: \",lim_sup)\n",
    "print(\"Marcas de clase: \", mrks)\n",
    "fa= g.fa_grouped(ordenadas, lim_inf, lim_sup)\n",
    "print(\"Frecuencias absolutas agrupadas:\", fa)\n",
    "\n",
    "fr = s.obtener_frecuencia_relativa(fa)\n",
    "print(\"Frecuencia relativa:\",fr)\n",
    "facum=l.obtener_frecuencia_relativa_acumulada(fr)\n",
    "print(\"Frecuencia relativa acumulada:\", facum)\n",
    "print()\n",
    "tabla_generada = h.generar_tabla_distribucion_frecuencias(ordenadas, lim_inf, lim_sup,mrks, fa, fr, facum)\n",
    "\n",
    "print(tabla_generada)\n"
   ]
  }
 ],
 "metadata": {
  "kernelspec": {
   "display_name": "Python 3 (ipykernel)",
   "language": "python",
   "name": "python3"
  },
  "language_info": {
   "codemirror_mode": {
    "name": "ipython",
    "version": 3
   },
   "file_extension": ".py",
   "mimetype": "text/x-python",
   "name": "python",
   "nbconvert_exporter": "python",
   "pygments_lexer": "ipython3",
   "version": "3.12.2"
  }
 },
 "nbformat": 4,
 "nbformat_minor": 5
}
